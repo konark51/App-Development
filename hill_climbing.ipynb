{
  "nbformat": 4,
  "nbformat_minor": 0,
  "metadata": {
    "colab": {
      "name": "hill_climbing.ipynb",
      "provenance": [],
      "authorship_tag": "ABX9TyObxmGa2OcvZRQjO3PbToay",
      "include_colab_link": true
    },
    "kernelspec": {
      "name": "python3",
      "display_name": "Python 3"
    },
    "language_info": {
      "name": "python"
    }
  },
  "cells": [
    {
      "cell_type": "markdown",
      "metadata": {
        "id": "view-in-github",
        "colab_type": "text"
      },
      "source": [
        "<a href=\"https://colab.research.google.com/github/konark51/App-Development/blob/master/hill_climbing.ipynb\" target=\"_parent\"><img src=\"https://colab.research.google.com/assets/colab-badge.svg\" alt=\"Open In Colab\"/></a>"
      ]
    },
    {
      "cell_type": "code",
      "metadata": {
        "id": "kO-3I2kB1QwQ"
      },
      "source": [
        "import gym\n",
        "import numpy as np\n",
        "from collections import deque\n",
        "import matplotlib.pyplot as plt\n",
        "%matplotlib inline"
      ],
      "execution_count": 1,
      "outputs": []
    },
    {
      "cell_type": "code",
      "metadata": {
        "colab": {
          "base_uri": "https://localhost:8080/"
        },
        "id": "s4Ychas31jcP",
        "outputId": "d79a71df-6778-4fe0-b6ce-59fa79b0f993"
      },
      "source": [
        "env = gym.make('CartPole-v0')\n",
        "print('observation space:', env.observation_space)\n",
        "print('action space:', env.action_space)"
      ],
      "execution_count": 2,
      "outputs": [
        {
          "output_type": "stream",
          "text": [
            "observation space: Box(-3.4028234663852886e+38, 3.4028234663852886e+38, (4,), float32)\n",
            "action space: Discrete(2)\n"
          ],
          "name": "stdout"
        }
      ]
    },
    {
      "cell_type": "code",
      "metadata": {
        "id": "f-youDKa3dTd"
      },
      "source": [
        "class Policy():\n",
        "    def __init__(self, s_size=4, a_size=2):\n",
        "        self.w = 1e-4*np.random.rand(s_size, a_size)  # weights for simple linear policy: state_space x action_space\n",
        "        \n",
        "    def forward(self, state):\n",
        "        x = np.dot(state, self.w)\n",
        "        return np.exp(x)/sum(np.exp(x))\n",
        "    \n",
        "    def act(self, state):\n",
        "        probs = self.forward(state)\n",
        "        #action = np.random.choice(2, p=probs) # option 1: stochastic policy\n",
        "        action = np.argmax(probs)              # option 2: deterministic policy\n",
        "        return action"
      ],
      "execution_count": 4,
      "outputs": []
    },
    {
      "cell_type": "code",
      "metadata": {
        "id": "o8NqzP134Vng"
      },
      "source": [
        "\n",
        "env = gym.make('CartPole-v0')\n",
        "env.seed(0)\n",
        "np.random.seed(0)\n",
        "\n",
        "policy = Policy()"
      ],
      "execution_count": 6,
      "outputs": []
    },
    {
      "cell_type": "code",
      "metadata": {
        "id": "etnYtguD8MiB"
      },
      "source": [
        "def hill_climbing(n_episodes=1000, max_t=1000, gamma=1.0, print_every=100, noise_scale=1e-2):\n",
        "    \"\"\"Implementation of hill climbing with adaptive noise scaling.\n",
        "        \n",
        "    Params\n",
        "    ======\n",
        "        n_episodes (int): maximum number of training episodes\n",
        "        max_t (int): maximum number of timesteps per episode\n",
        "        gamma (float): discount rate\n",
        "        print_every (int): how often to print average score (over last 100 episodes)\n",
        "        noise_scale (float): standard deviation of additive noise\n",
        "    \"\"\"\n",
        "    scores_deque = deque(maxlen=100)\n",
        "    scores = []\n",
        "    best_R = -np.Inf\n",
        "    best_w = policy.w\n",
        "    for i_episode in range(1, n_episodes+1):\n",
        "        rewards = []\n",
        "        state = env.reset()\n",
        "        for t in range(max_t):\n",
        "            action = policy.act(state)\n",
        "            state, reward, done, _ = env.step(action)\n",
        "            rewards.append(reward)\n",
        "            if done:\n",
        "                break \n",
        "        scores_deque.append(sum(rewards))\n",
        "        scores.append(sum(rewards))\n",
        "\n",
        "        discounts = [gamma**i for i in range(len(rewards)+1)]\n",
        "        R = sum([a*b for a,b in zip(discounts, rewards)])\n",
        "\n",
        "        if R >= best_R: # found better weights\n",
        "            best_R = R\n",
        "            best_w = policy.w\n",
        "            noise_scale = max(1e-3, noise_scale / 2)\n",
        "            policy.w += noise_scale * np.random.rand(*policy.w.shape) \n",
        "        else: # did not find better weights\n",
        "            noise_scale = min(2, noise_scale * 2)\n",
        "            policy.w = best_w + noise_scale * np.random.rand(*policy.w.shape)\n",
        "\n",
        "        if i_episode % print_every == 0:\n",
        "            print('Episode {}\\tAverage Score: {:.2f}'.format(i_episode, np.mean(scores_deque)))\n",
        "        if np.mean(scores_deque)>=195.0:\n",
        "            print('Environment solved in {:d} episodes!\\tAverage Score: {:.2f}'.format(i_episode-100, np.mean(scores_deque)))\n",
        "            policy.w = best_w\n",
        "            break\n",
        "        \n",
        "    return scores"
      ],
      "execution_count": 7,
      "outputs": []
    },
    {
      "cell_type": "code",
      "metadata": {
        "colab": {
          "base_uri": "https://localhost:8080/"
        },
        "id": "AQhs9eyT8Uxb",
        "outputId": "3443f198-1e98-41fa-f438-b740feacedce"
      },
      "source": [
        "scores = hill_climbing()"
      ],
      "execution_count": 8,
      "outputs": [
        {
          "output_type": "stream",
          "text": [
            "Episode 100\tAverage Score: 175.24\n",
            "Environment solved in 13 episodes!\tAverage Score: 196.21\n"
          ],
          "name": "stdout"
        }
      ]
    },
    {
      "cell_type": "code",
      "metadata": {
        "colab": {
          "base_uri": "https://localhost:8080/",
          "height": 279
        },
        "id": "FiWaMBes8m6y",
        "outputId": "982acef1-8d17-44e1-87d8-4053e838bcb1"
      },
      "source": [
        "\n",
        "fig = plt.figure()\n",
        "ax = fig.add_subplot(111)\n",
        "plt.plot(np.arange(1, len(scores)+1), scores)\n",
        "plt.ylabel('Score')\n",
        "plt.xlabel('Episode #')\n",
        "plt.show()"
      ],
      "execution_count": 9,
      "outputs": [
        {
          "output_type": "display_data",
          "data": {
            "image/png": "[encoded data removed]",
            "text/plain": [
              "<Figure size 432x288 with 1 Axes>"
            ]
          },
          "metadata": {
            "tags": [],
            "needs_background": "light"
          }
        }
      ]
    },
    {
      "cell_type": "code",
      "metadata": {
        "id": "z_QJQnzZ9Jod"
      },
      "source": [
        ""
      ],
      "execution_count": null,
      "outputs": []
    }
  ]
}